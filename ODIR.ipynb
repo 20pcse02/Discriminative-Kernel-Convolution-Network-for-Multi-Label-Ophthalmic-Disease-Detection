{
  "nbformat": 4,
  "nbformat_minor": 0,
  "metadata": {
    "colab": {
      "provenance": []
    },
    "kernelspec": {
      "name": "python3",
      "display_name": "Python 3"
    },
    "language_info": {
      "name": "python"
    },
    "accelerator": "GPU"
  },
  "cells": [
    {
      "cell_type": "code",
      "metadata": {
        "id": "evVAKCasDiRB",
        "colab": {
          "base_uri": "https://localhost:8080/"
        },
        "outputId": "2870f208-f8b6-4da2-9a44-a7c6eef5f5db"
      },
      "source": [
        "%cd '/content/drive/MyDrive/eye_disease'"
      ],
      "execution_count": null,
      "outputs": [
        {
          "output_type": "stream",
          "text": [
            "/content/drive/MyDrive/eye_disease\n"
          ],
          "name": "stdout"
        }
      ]
    },
    {
      "cell_type": "code",
      "metadata": {
        "colab": {
          "base_uri": "https://localhost:8080/"
        },
        "id": "jn9cpACPBH11",
        "outputId": "4caa1a29-3e58-4152-a3f9-82bc6c63ea01"
      },
      "source": [
        "from google.colab import drive\n",
        "drive.mount('/content/drive')"
      ],
      "execution_count": null,
      "outputs": [
        {
          "output_type": "stream",
          "text": [
            "Mounted at /content/drive\n"
          ],
          "name": "stdout"
        }
      ]
    },
    {
      "cell_type": "code",
      "metadata": {
        "id": "D7tQXXfZDpT6"
      },
      "source": [
        "from tensorflow.keras.applications import inception_resnet_v2\n",
        "from tensorflow.keras.layers import *\n",
        "from tensorflow.keras.models import Model\n",
        "import tensorflow as tf\n",
        "import keras.backend as K"
      ],
      "execution_count": null,
      "outputs": []
    },
    {
      "cell_type": "code",
      "metadata": {
        "id": "TvobbyzjAYKi"
      },
      "source": [
        "def squeeze_excite_block(tensor, ratio=8):\n",
        "    channel_axis = 1 if K.image_data_format() == \"channels_first\" else -1\n",
        "    filters = tensor.shape[channel_axis]\n",
        "    se_shape = (1, 1, filters)\n",
        "\n",
        "    se = GlobalAveragePooling2D()(tensor)\n",
        "    se = Reshape(se_shape)(se)\n",
        "    se = Dense(filters // ratio, activation='relu', kernel_initializer='he_normal', use_bias=False)(se)\n",
        "    se = Dense(filters, activation='sigmoid', kernel_initializer='he_normal', use_bias=False)(se)\n",
        "\n",
        "    if K.image_data_format() == 'channels_first':\n",
        "        se = Permute((3, 1, 2))(se)\n",
        "    x = multiply([tensor, se])\n",
        "    return x"
      ],
      "execution_count": null,
      "outputs": []
    },
    {
      "cell_type": "code",
      "metadata": {
        "id": "DZxpvr1xAcUC"
      },
      "source": [
        "\n",
        "def channel_shuffle(x):\n",
        "    height, width, channels = x.shape.as_list()[1:]\n",
        "    channels_per_split = channels // 2\n",
        "    x = K.reshape(x, [-1, height, width, 2, channels_per_split])\n",
        "    x = K.permute_dimensions(x, (0,1,2,4,3))\n",
        "    x = K.reshape(x, [-1, height, width, channels])\n",
        "    return x"
      ],
      "execution_count": null,
      "outputs": []
    },
    {
      "cell_type": "code",
      "metadata": {
        "id": "rTb0LcFtWchE"
      },
      "source": [
        "def SK_Unit(input, M, r, L=32, stride=1):\n",
        "    input_feature=K.int_shape(input)[3]\n",
        "    #input_feature = input.get_shape().as_list()[3]\n",
        "    d = max(int(input_feature / r), L)\n",
        "    net = input\n",
        "\n",
        "    prime_net=[]\n",
        "    #with slim.arg_scope([slim.conv2d, slim.fully_connected], activation_fn=tf.nn.relu):\n",
        "    for i in range(M):\n",
        "       #net = Conv2D(input_feature, kernel_size=(3+i*2, 3+i*2), dilation_rate=2, padding='SAME')(net)\n",
        "       net = Conv2D(input_feature, kernel_size=(3, 3), dilation_rate=1+i, padding='SAME')(net)\n",
        "       net = BatchNormalization()(net)\n",
        "       net = Activation('relu')(net)\n",
        "       prime_net.append(net)\n",
        "       if i == 0:\n",
        "          fea_U = net\n",
        "       else:\n",
        "          fea_U = Add()([fea_U, net])\n",
        "          #fea_U = tf.add(fea_U, net)\n",
        "\n",
        "    #return fea_U\n",
        "\n",
        "    gap = GlobalAveragePooling2D()(fea_U)\n",
        "    gmp = GlobalMaxPooling2D()(fea_U)\n",
        "    gap = Add()([gap, gmp])\n",
        "    gap = Flatten()(gap)\n",
        "    fc = Dense(d, activation='relu')(gap)\n",
        "    fcs = fc\n",
        "    for i in range(M):\n",
        "        #att = Conv2D(input_feature, kernel_size=(1, 1))(fcs)\n",
        "        att =Dense(input_feature)(fcs)\n",
        "        att= Activation('sigmoid') (att)\n",
        "        F_A = Multiply()([att,prime_net[i]])\n",
        "        if i == 0:\n",
        "          f_out = F_A\n",
        "        else:\n",
        "          f_out = Add()([f_out, F_A])\n",
        "\n",
        "    return f_out"
      ],
      "execution_count": null,
      "outputs": []
    },
    {
      "cell_type": "code",
      "metadata": {
        "id": "zcSFCFegGn1e"
      },
      "source": [
        "base_model = inception_resnet_v2.InceptionResNetV2\n",
        "\n",
        "base_model = base_model(input_shape=(224, 224, 3), weights='imagenet', include_top=False)\n",
        "\n",
        "# Comment this out if you want to train all layers\n",
        "# for layer in base_model.layers:\n",
        "#     layer.trainable = True\n",
        "\n",
        "x = base_model.layers[-2].output\n",
        "\n",
        "input_features=K.int_shape(x)[3]\n",
        "int_layer=Conv2D(input_features, kernel_size=3)(x)\n",
        "int_layer = channel_shuffle(int_layer)\n",
        "int_layer = Activation('relu')(int_layer)\n",
        "z=SK_Unit(int_layer,3,2)\n",
        "x= squeeze_excite_block(x, 16)\n",
        "\n",
        "#x = Flatten()(x)\n",
        "#x = Dropout(0.5)(x)\n",
        "x = GlobalAveragePooling2D()(x)\n",
        "predictions = Dense(8, activation='sigmoid')(x)\n",
        "model = Model(inputs=base_model.input, outputs=predictions)\n",
        "\n",
        "#for layer in model.layers[:freeze_layers]:\n",
        "#    layer.trainable = True\n",
        "#for layer in model.layers[freeze_layers:]:\n",
        "#    layer.trainable = False\n",
        "\n",
        "model.summary()"
      ],
      "execution_count": null,
      "outputs": []
    },
    {
      "cell_type": "code",
      "metadata": {
        "id": "8IxNd0BQIOXy"
      },
      "source": [
        "defined_metrics = [\n",
        "    tf.keras.metrics.BinaryAccuracy(name='accuracy'),\n",
        "    tf.keras.metrics.Precision(name='precision'),\n",
        "    tf.keras.metrics.Recall(name='recall'),\n",
        "    tf.keras.metrics.AUC(name='auc'),\n",
        "]"
      ],
      "execution_count": null,
      "outputs": []
    },
    {
      "cell_type": "code",
      "metadata": {
        "id": "pCPzVsgDHwiT"
      },
      "source": [
        "from tensorflow.keras.optimizers import SGD\n",
        "sgd = SGD(learning_rate=0.0007, decay=1e-6, momentum=0.9, nesterov=True)\n",
        "model.compile(loss='binary_crossentropy', optimizer=sgd, metrics=defined_metrics)"
      ],
      "execution_count": null,
      "outputs": []
    },
    {
      "cell_type": "code",
      "metadata": {
        "id": "8AeC61RCHxPK"
      },
      "source": [
        "import numpy as np\n",
        "\n",
        "x_train = np.load('odir_training_224.npy')\n",
        "split_1 = int(0.8 * len(x_train))\n",
        "\n",
        "train_dataset = x_train[:split_1]\n",
        "test_dataset = x_train[split_1:]\n",
        "\n",
        "y_train = np.load('odir_training_labels_224.npy')\n",
        "split_2 = int(0.8 * len(y_train))\n",
        "\n",
        "train_result = y_train[:split_2]\n",
        "test_result = y_train[split_2:]\n"
      ],
      "execution_count": null,
      "outputs": []
    },
    {
      "cell_type": "code",
      "metadata": {
        "id": "BP8bRTiRHyti"
      },
      "source": [
        "#x_test = np.load('odir_testing_224.npy')\n",
        "#y_test = np.load('odir_testing_labels_224.npy')"
      ],
      "execution_count": null,
      "outputs": []
    },
    {
      "cell_type": "code",
      "metadata": {
        "colab": {
          "base_uri": "https://localhost:8080/"
        },
        "id": "h9wNhr-1H0Uy",
        "outputId": "4638813d-253c-4546-b1dd-15602bf990a9"
      },
      "source": [
        "batch_size = 16\n",
        "history = model.fit(train_dataset, train_result,\n",
        "                    batch_size=batch_size,\n",
        "                    validation_data=(test_dataset, test_result),\n",
        "                                    epochs=25, verbose=1, shuffle=True)"
      ],
      "execution_count": null,
      "outputs": [
        {
          "output_type": "stream",
          "text": [
            "Epoch 1/25\n",
            "954/954 [==============================] - 687s 666ms/step - loss: 0.2928 - accuracy: 0.8786 - precision: 0.6685 - recall: 0.3719 - auc: 0.8633 - val_loss: 0.3607 - val_accuracy: 0.8401 - val_precision: 0.4024 - val_recall: 0.1707 - val_auc: 0.7787\n",
            "Epoch 2/25\n",
            "954/954 [==============================] - 629s 660ms/step - loss: 0.2022 - accuracy: 0.9181 - precision: 0.8173 - recall: 0.5817 - auc: 0.9416 - val_loss: 0.3463 - val_accuracy: 0.8473 - val_precision: 0.4668 - val_recall: 0.2399 - val_auc: 0.8165\n",
            "Epoch 3/25\n",
            "954/954 [==============================] - 629s 659ms/step - loss: 0.1560 - accuracy: 0.9379 - precision: 0.8590 - recall: 0.6989 - auc: 0.9670 - val_loss: 0.3770 - val_accuracy: 0.8477 - val_precision: 0.4742 - val_recall: 0.2876 - val_auc: 0.8004\n",
            "Epoch 4/25\n",
            "954/954 [==============================] - 629s 659ms/step - loss: 0.1175 - accuracy: 0.9553 - precision: 0.8979 - recall: 0.7904 - auc: 0.9820 - val_loss: 0.4074 - val_accuracy: 0.8506 - val_precision: 0.4921 - val_recall: 0.3533 - val_auc: 0.8032\n",
            "Epoch 5/25\n",
            "954/954 [==============================] - 629s 659ms/step - loss: 0.0891 - accuracy: 0.9676 - precision: 0.9246 - recall: 0.8525 - auc: 0.9900 - val_loss: 0.4011 - val_accuracy: 0.8515 - val_precision: 0.4963 - val_recall: 0.3593 - val_auc: 0.8223\n",
            "Epoch 6/25\n",
            "954/954 [==============================] - 629s 659ms/step - loss: 0.0647 - accuracy: 0.9770 - precision: 0.9456 - recall: 0.8975 - auc: 0.9949 - val_loss: 0.4438 - val_accuracy: 0.8375 - val_precision: 0.4387 - val_recall: 0.3584 - val_auc: 0.8135\n",
            "Epoch 7/25\n",
            "954/954 [==============================] - 629s 660ms/step - loss: 0.0492 - accuracy: 0.9833 - precision: 0.9585 - recall: 0.9288 - auc: 0.9971 - val_loss: 0.4989 - val_accuracy: 0.8285 - val_precision: 0.4085 - val_recall: 0.3606 - val_auc: 0.8008\n",
            "Epoch 8/25\n",
            "954/954 [==============================] - 629s 660ms/step - loss: 0.0385 - accuracy: 0.9872 - precision: 0.9669 - recall: 0.9465 - auc: 0.9982 - val_loss: 0.4934 - val_accuracy: 0.8442 - val_precision: 0.4678 - val_recall: 0.4010 - val_auc: 0.8071\n",
            "Epoch 9/25\n",
            "954/954 [==============================] - 629s 659ms/step - loss: 0.0287 - accuracy: 0.9908 - precision: 0.9764 - recall: 0.9616 - auc: 0.9991 - val_loss: 0.6269 - val_accuracy: 0.8341 - val_precision: 0.4253 - val_recall: 0.3515 - val_auc: 0.7586\n",
            "Epoch 10/25\n",
            "954/954 [==============================] - 629s 659ms/step - loss: 0.0243 - accuracy: 0.9923 - precision: 0.9795 - recall: 0.9689 - auc: 0.9994 - val_loss: 0.5274 - val_accuracy: 0.8481 - val_precision: 0.4819 - val_recall: 0.3850 - val_auc: 0.7985\n",
            "Epoch 11/25\n",
            " 96/954 [==>...........................] - ETA: 8:48 - loss: 0.0253 - accuracy: 0.9921 - precision: 0.9834 - recall: 0.9636 - auc: 0.9993"
          ],
          "name": "stdout"
        }
      ]
    },
    {
      "cell_type": "code",
      "metadata": {
        "id": "X0f472fvVkCk"
      },
      "source": [
        "test_predictions_baseline = model.predict(test_dataset)"
      ],
      "execution_count": null,
      "outputs": []
    },
    {
      "cell_type": "code",
      "metadata": {
        "id": "ih_zUwieVmtg",
        "colab": {
          "base_uri": "https://localhost:8080/"
        },
        "outputId": "537b3b32-0395-48a4-88fe-e34e40ef069f"
      },
      "source": [
        "!mkdir 'ODIR-5K_Result_inception_se'"
      ],
      "execution_count": null,
      "outputs": [
        {
          "output_type": "stream",
          "text": [
            "mkdir: cannot create directory ‘ODIR-5K_Result_inception_se’: File exists\n"
          ],
          "name": "stdout"
        }
      ]
    },
    {
      "cell_type": "code",
      "metadata": {
        "id": "CBSlz0l-VkqP"
      },
      "source": [
        "result_folder = 'ODIR-5K_Result_inception_se'"
      ],
      "execution_count": null,
      "outputs": []
    },
    {
      "cell_type": "code",
      "metadata": {
        "id": "hKLw3Cm_VtL7"
      },
      "source": [
        "from kappa_score import FinalScore\n",
        "from predictions_writer import Prediction"
      ],
      "execution_count": null,
      "outputs": []
    },
    {
      "cell_type": "code",
      "metadata": {
        "id": "9UVlvzJFVu7o"
      },
      "source": [
        "prediction_writer = Prediction(test_predictions_baseline, 400, result_folder)\n",
        "prediction_writer.save()\n",
        "prediction_writer.save_all(test_result)\n"
      ],
      "execution_count": null,
      "outputs": []
    },
    {
      "cell_type": "code",
      "metadata": {
        "id": "D420Xv9YVwWh",
        "colab": {
          "base_uri": "https://localhost:8080/"
        },
        "outputId": "f30b14e5-e640-4710-86a5-58908e26e5ac"
      },
      "source": [
        "# show the final score\n",
        "score = FinalScore(result_folder)\n",
        "score.output()"
      ],
      "execution_count": null,
      "outputs": [
        {
          "output_type": "stream",
          "text": [
            "Kappa score: 0.8146268656716419\n",
            "F-1 score: 0.942875\n",
            "AUC value: 0.9608205357142857\n",
            "Final Score: 0.8697074671286426\n"
          ],
          "name": "stdout"
        }
      ]
    },
    {
      "cell_type": "code",
      "metadata": {
        "colab": {
          "base_uri": "https://localhost:8080/"
        },
        "id": "lL_JOCcsJxT6",
        "outputId": "f8bc3ca8-fcb9-454a-a2d2-ae2f467080a8"
      },
      "source": [
        "model.save('inception_se.h5')"
      ],
      "execution_count": null,
      "outputs": [
        {
          "output_type": "stream",
          "text": [
            "/usr/local/lib/python3.7/dist-packages/tensorflow/python/keras/utils/generic_utils.py:497: CustomMaskWarning: Custom mask layers require a config and must override get_config. When loading, the custom mask layer must be passed to the custom_objects argument.\n",
            "  category=CustomMaskWarning)\n"
          ],
          "name": "stderr"
        }
      ]
    },
    {
      "cell_type": "code",
      "source": [],
      "metadata": {
        "id": "CeHxbqiTo7PB"
      },
      "execution_count": null,
      "outputs": []
    }
  ]
}